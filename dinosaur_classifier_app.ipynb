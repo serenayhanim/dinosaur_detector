{
 "cells": [
  {
   "cell_type": "code",
   "execution_count": 1,
   "id": "a2ee9795",
   "metadata": {},
   "outputs": [],
   "source": [
    "import gradio as gr\n",
    "import fastai\n",
    "from fastai.vision.all import *"
   ]
  },
  {
   "cell_type": "markdown",
   "id": "69a348b8",
   "metadata": {},
   "source": [
    "### 1.Import the dinosaur classifier"
   ]
  },
  {
   "cell_type": "code",
   "execution_count": 2,
   "id": "94993cb3",
   "metadata": {},
   "outputs": [],
   "source": [
    "learner = load_learner('/Users/serenayozalp/Downloads/export.pkl')"
   ]
  },
  {
   "cell_type": "code",
   "execution_count": 3,
   "id": "431d1f37",
   "metadata": {},
   "outputs": [],
   "source": [
    "def classify_image(img):\n",
    "    pred,pred_idx,probs = learner.predict(img)\n",
    "    return f'Prediction: {pred}\\n Probability: {probs[pred_idx]:.04f}'  "
   ]
  },
  {
   "cell_type": "markdown",
   "id": "b35f653f",
   "metadata": {},
   "source": [
    "### 2.Create an app using gradio"
   ]
  },
  {
   "cell_type": "code",
   "execution_count": 4,
   "id": "c3fe1f9c",
   "metadata": {},
   "outputs": [],
   "source": [
    "text = {'Trex': 'Tyrannosaurus is a genus of large theropod dinosaur. The species Tyrannosaurus rex, often called T. rex or colloquially T-Rex, is one of the best represented theropods. Tyrannosaurus lived throughout what is now western North America, on what was then an island continent known as Laramidia.',\n",
    "       'Stegosaurus': 'Stegosaurus is a genus of herbivorous, four-legged, armored dinosaur from the Late Jurassic, characterized by the distinctive kite-shaped upright plates along their backs and spikes on their tails.',\n",
    "       'Brachiosaurus':'Brachiosaurus is a genus of sauropod dinosaur that lived in North America during the Late Jurassic, about 154–150 million years ago. It was first described by American paleontologist Elmer S. Riggs in 1903 from fossils found in the Colorado River valley in western Colorado, United States.'}"
   ]
  },
  {
   "cell_type": "code",
   "execution_count": 5,
   "id": "4990e512",
   "metadata": {},
   "outputs": [],
   "source": [
    "inputs=gr.inputs.Image(shape=(128, 128))"
   ]
  },
  {
   "cell_type": "code",
   "execution_count": 6,
   "id": "9eebaff7",
   "metadata": {},
   "outputs": [],
   "source": [
    "label = gr.outputs.Label(num_top_classes=None, type = \"auto\", label = None)"
   ]
  },
  {
   "cell_type": "code",
   "execution_count": 7,
   "id": "ddf2617d",
   "metadata": {},
   "outputs": [],
   "source": [
    "def classify_image(dest):\n",
    "    pred,pred_idx,probs = learner.predict(dest)\n",
    "    info = text.get(pred)\n",
    "    return (\n",
    "        f'Prediction: {pred}'\n",
    "        f'Probability: {probs[pred_idx]:.04f}', info) "
   ]
  },
  {
   "cell_type": "code",
   "execution_count": 11,
   "id": "a9fd79eb",
   "metadata": {},
   "outputs": [
    {
     "name": "stdout",
     "output_type": "stream",
     "text": [
      "Running on local URL:  http://127.0.0.1:7861/\n",
      "Running on public URL: https://37694.gradio.app\n",
      "\n",
      "This share link expires in 72 hours. For free permanent hosting, check out Spaces (https://huggingface.co/spaces)\n"
     ]
    },
    {
     "data": {
      "text/html": [
       "\n",
       "        <iframe\n",
       "            width=\"900\"\n",
       "            height=\"500\"\n",
       "            src=\"https://37694.gradio.app\"\n",
       "            frameborder=\"0\"\n",
       "            allowfullscreen\n",
       "            \n",
       "        ></iframe>\n",
       "        "
      ],
      "text/plain": [
       "<IPython.lib.display.IFrame at 0x7f84a50497f0>"
      ]
     },
     "metadata": {},
     "output_type": "display_data"
    },
    {
     "data": {
      "text/plain": [
       "(<Flask 'gradio.networking'>,\n",
       " 'http://127.0.0.1:7861/',\n",
       " 'https://37694.gradio.app')"
      ]
     },
     "execution_count": 11,
     "metadata": {},
     "output_type": "execute_result"
    }
   ],
   "source": [
    "gr.Interface(fn=classify_image, inputs=inputs, outputs=[label, 'text']).launch(share=True)"
   ]
  },
  {
   "cell_type": "code",
   "execution_count": null,
   "id": "41445cdd",
   "metadata": {},
   "outputs": [],
   "source": []
  }
 ],
 "metadata": {
  "kernelspec": {
   "display_name": "Python 3 (ipykernel)",
   "language": "python",
   "name": "python3"
  },
  "language_info": {
   "codemirror_mode": {
    "name": "ipython",
    "version": 3
   },
   "file_extension": ".py",
   "mimetype": "text/x-python",
   "name": "python",
   "nbconvert_exporter": "python",
   "pygments_lexer": "ipython3",
   "version": "3.9.7"
  }
 },
 "nbformat": 4,
 "nbformat_minor": 5
}
